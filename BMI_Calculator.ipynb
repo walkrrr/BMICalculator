{
 "cells": [
  {
   "cell_type": "markdown",
   "metadata": {
    "id": "8lZtUcKCTG_z"
   },
   "source": [
    "BMI Calculator\n",
    "\n",
    "https://mercer-health.com/services/weight-management-center/bmi-calculator\n"
   ]
  },
  {
   "cell_type": "code",
   "execution_count": null,
   "metadata": {
    "colab": {
     "base_uri": "https://localhost:8080/"
    },
    "id": "dVqZiolbS88i",
    "outputId": "6e0017b0-15cd-48ed-b00f-9c22e45163fc"
   },
   "outputs": [
    {
     "name": "stdout",
     "output_type": "stream",
     "text": [
      "Enter your name: R\n",
      "Enter your weight in pounds: 199\n",
      "Enter your height in inches: 65\n",
      "33.11171597633136\n",
      "R, you are obese.\n"
     ]
    }
   ],
   "source": [
    "name = input(\"Enter your name: \")\n",
    "\n",
    "weight = int(input(\"Enter your weight in pounds: \"))\n",
    "\n",
    "height = int(input(\"Enter your height in inches: \"))\n",
    "\n",
    "BMI = (weight * 703) / (height * height)\n",
    "\n",
    "print(BMI)\n",
    "\n",
    "if BMI>0:\n",
    "    if(BMI < 18.5):\n",
    "      print(name +\", you are underweight.\")\n",
    "    elif(BMI <= 24.9):\n",
    "        print(name +\", you are normal weight.\")\n",
    "    elif(BMI < 29.9):\n",
    "        print(name +\", you are overweight.\")\n",
    "    elif(BMI < 34.9):\n",
    "        print(name +\", you are obese.\")\n",
    "    elif(BMI < 39.9):\n",
    "        print(\"You are severely obese.\")\n",
    "else:\n",
    "    print(\"Enter valid input.\")"
   ]
  },
  {
   "cell_type": "markdown",
   "metadata": {
    "id": "HOsyCT8QUzIo"
   },
   "source": []
  },
  {
   "cell_type": "code",
   "execution_count": null,
   "metadata": {
    "colab": {
     "base_uri": "https://localhost:8080/"
    },
    "id": "I7CC2zPCTcRa",
    "outputId": "8142303f-2cf9-45fa-ab28-7b26de12b6b2"
   },
   "outputs": [
    {
     "name": "stdout",
     "output_type": "stream",
     "text": [
      "263\n"
     ]
    }
   ],
   "source": [
    "print(weight)"
   ]
  },
  {
   "cell_type": "code",
   "execution_count": null,
   "metadata": {
    "id": "Eql3b0qCT_TK"
   },
   "outputs": [],
   "source": [
    "Under 18.5\tUnderweight Minimal\n",
    "18.5 - 24.9\tNormal Weight\tMinimal\n",
    "25 - 29.9\tOverweight\tIncreased\n",
    "30 - 34.9\tObese\tHigh\n",
    "35 - 39.9\tSeverely Obese\tVery High\n",
    "40 and over\tMorbidly Obese\tExtremely High\n"
   ]
  }
 ],
 "metadata": {
  "colab": {
   "provenance": []
  },
  "kernelspec": {
   "display_name": "Python 3 (ipykernel)",
   "language": "python",
   "name": "python3"
  },
  "language_info": {
   "codemirror_mode": {
    "name": "ipython",
    "version": 3
   },
   "file_extension": ".py",
   "mimetype": "text/x-python",
   "name": "python",
   "nbconvert_exporter": "python",
   "pygments_lexer": "ipython3",
   "version": "3.9.13"
  }
 },
 "nbformat": 4,
 "nbformat_minor": 1
}
